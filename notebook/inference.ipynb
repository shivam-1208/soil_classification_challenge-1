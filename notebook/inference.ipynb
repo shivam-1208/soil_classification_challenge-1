{
 "cells": [
  {
   "cell_type": "code",
   "execution_count": null,
   "id": "9aff8f55",
   "metadata": {
    "vscode": {
     "languageId": "plaintext"
    }
   },
   "outputs": [],
   "source": [
    "\"\"\"\n",
    "\n",
    "Author: Shivam\n",
    "Team Name: shivam and venikka\n",
    "Team Members: shivam ,venikka\n",
    "Leaderboard Rank: 25\n",
    "\n",
    "\"\"\"\n",
    "\n",
    "# This is the notebook used for making the inferences using the model trained."
   ]
  }
 ],
 "metadata": {
  "language_info": {
   "name": "python"
  }
 },
 "nbformat": 4,
 "nbformat_minor": 5
}
